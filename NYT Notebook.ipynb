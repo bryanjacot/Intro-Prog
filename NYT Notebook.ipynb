{
 "cells": [
  {
   "cell_type": "markdown",
   "metadata": {},
   "source": [
    "# New York Times Notebook\n",
    "\n",
    "The New York Times publish every year a list of bestsellers. This project aims at creating a search engine that the user can use to:\n",
    "- search for a year range,\n",
    "- search for a specific month,\n",
    "- search an author,\n",
    "- search for a title,\n",
    "- and search for specific birthday.\n",
    "\n",
    "Here is a detailed explaination of this [program](https://github.com/bryanjacot/Intro-Prog/blob/master/NYT%20with%20comments.ipynb).\n",
    "Additionally, we have also included a version of the program [without](https://github.com/bryanjacot/Intro-Prog/blob/master/NYT%20without%20comments.ipynb) commentaries here."
   ]
  },
  {
   "cell_type": "code",
   "execution_count": 1,
   "metadata": {},
   "outputs": [],
   "source": [
    "from datetime import datetime\n",
    "\n",
    "bestsellers = open('bestsellers.txt')\n",
    "all_list = []\n",
    "for line in bestsellers:\n",
    "    line_list = line.split('\\t')\n",
    "    all_list.append(line_list)"
   ]
  },
  {
   "cell_type": "markdown",
   "metadata": {},
   "source": [
    "In the cell above, we open the text [bestsellers](https://github.com/bryanjacot/Intro-Prog/blob/master/bestsellers.txt). Since `bestsellers` is a nested list, we create an empty list called `all_list` and we split `bestsellers` append it to `all_list`. The latter is therefore a simple list."
   ]
  },
  {
   "cell_type": "code",
   "execution_count": null,
   "metadata": {},
   "outputs": [],
   "source": [
    "def interface1():\n",
    "    print(\"Welcome to the program! What do you want to do?\")\n",
    "    print(\"\\n\")\n",
    "    print(\"1: Search the bestseller books in a year range.\")\n",
    "    print(\"2: Search for all books in a specific month and year.\")\n",
    "    print(\"3: Search for an author.\")\n",
    "    print(\"4: Search for a title.\")\n",
    "    print(\"5: My Birthday book!\")\n",
    "    print(\"Q: Quit the application.\")\n",
    "\n",
    "def interface2():\n",
    "    print(\"What do you want to do next?\")\n",
    "    print(\"\\n\")\n",
    "    print(\"1: Search the bestseller books in a year range.\")\n",
    "    print(\"2: Search for all books in a specific month and year.\")\n",
    "    print(\"3: Search for an author.\")\n",
    "    print(\"4: Search for a title.\")\n",
    "    print(\"5: My Birthday book!\")\n",
    "    print(\"Q: Quit the application.\")"
   ]
  },
  {
   "cell_type": "markdown",
   "metadata": {},
   "source": [
    "Here above, we create two straightforward interfaces. The first one is triggered when the user searches for the first time. The second one is triggered the rest of the times. The interfaces asks what the user wants to do and print all the different functions."
   ]
  },
  {
   "cell_type": "code",
   "execution_count": null,
   "metadata": {},
   "outputs": [],
   "source": [
    "def search_years():\n",
    "    try:\n",
    "        years_start = input(\"Enter a starting year:\")\n",
    "        years_end = input(\"Enter an ending year:\")\n",
    "        print(\"\\n\")\n",
    "\n",
    "        years_lst = []\n",
    "        for i in range(int(years_start), int(years_end), 1):\n",
    "            years_lst.append(i)\n",
    "        years_lst.append(years_end)\n",
    "        years_lst_in_string = [str(item) for item in years_lst]\n",
    "\n",
    "        if years_end < years_start: \n",
    "            print(\"The starting year should be smaller than the ending year\\n\")\n",
    "        \n",
    "        else:  \n",
    "            print(\"Here is a list of all books that reached #1 top seller book between\", years_start, \"and\", years_end, \":\\n\")\n",
    "            for book in all_list:\n",
    "                for i in years_lst_in_string:\n",
    "                    if i in book[3]:\n",
    "                        print(book[0],\", by\", book[1], \"(\" , book[3],\")\\n\")\n",
    "            \n",
    "    except ValueError:\n",
    "        print(\"This is not a valid year.\\n\")"
   ]
  },
  {
   "cell_type": "markdown",
   "metadata": {},
   "source": [
    "The above function enables the user to search for bestsellers in a specific range of years. It firstly asks the user for a starting year and an ending year. Thanks to the <code style=\"color:green\">try</code>, if the user gives an invalid year, the `ValueError` at the bottom will be printed. \n",
    "\n",
    "If the year is valid, we create an empty list called `years_lst`. We use a <code style=\"color:green\">**for**</code>-loop to find all the different years between the starting and ending year. Then, we append it to our empty list and convert the latter in a string format.\n",
    "\n",
    "Folowing that, we add a condition that checks whether the ending year is greater than the starting year. If not, an error mesage is printed.\n",
    "\n",
    "If the ending year is indeed greater, then we look for all books that contains one of the years in its line on the list and display them."
   ]
  },
  {
   "cell_type": "code",
   "execution_count": null,
   "metadata": {},
   "outputs": [],
   "source": [
    "def search_monthyear():\n",
    "    try:\n",
    "        m = int(input(\"Enter month (as number, 1-12):\"))\n",
    "        y = int(input(\"Enter a year:\"))\n",
    "        print(\"\\n\")\n",
    "        if m<=12 and 1942<=y<=2013:\n",
    "            print(\"All titles in month\", m, \"of\", y, \":\\n\" )\n",
    "            for book in all_list:\n",
    "                objDate = datetime.strptime(book[3], '%m/%d/%Y')\n",
    "                if objDate.year == y and objDate.month == m:\n",
    "                    print(book[0],\", by\", book[1], \"(\" , book[3],\")\\n\")\n",
    "            else:\n",
    "                print(\"Sorry, there is no bestseller in this given month and year. \\n\")\n",
    "        else:\n",
    "            print(\"This year and/or month does not figure in our database.\\n\")\n",
    "      \n",
    "    except ValueError: \n",
    "        print(\"There is something wrong with the month or the year. \\n\")"
   ]
  },
  {
   "cell_type": "markdown",
   "metadata": {},
   "source": [
    "The above function allows the user to search a specific month and year for bestsellers. We first ask the user for a month and a year. Then we check whether the month is lower than 12 and if the year is within the year range given in the file. Afterwards, we create a loop that looks for each book whehther it contains the month and year entered by the user. If this is the case, the book is displayed. On the other hand, if there is no book in the list that contains the specific month and year, it will tell it to the user. If there was an error with the month or year, another message error will be displayed. Finally, if the input entered is not an integer, a final error message will be printed. "
   ]
  },
  {
   "cell_type": "code",
   "execution_count": null,
   "metadata": {},
   "outputs": [],
   "source": [
    "def search_authors():\n",
    "    lst =[]\n",
    "    author = input(\"What is the name of the author you are looking for?\")\n",
    "    author = ' '.join(word[0].upper() + word[1:].lower() for word in author.split())\n",
    "    print(\"\\n\")\n",
    "    print(\"Here is a list of the books containing\", author, \"as author:\\n\")\n",
    "    for book in all_list:\n",
    "        if author in book[1]:\n",
    "            print(book[0],\", by\", book[1], \"(\" , book[3],\")\\n\")\n",
    "            continue\n",
    "        else: lst.append(book)\n",
    "        if lst == all_list: \n",
    "            return print ('{} is not a bestseller author.'.format(author))"
   ]
  },
  {
   "cell_type": "markdown",
   "metadata": {},
   "source": [
    "For the function above, we create an empty list called `lst`. We ask the user to give a name and convert the string in a format where the first letter is a capital letter and the rest are lowercases. Afterwards, we use a <code style=\"color:green\">**for**</code>-loop to check whether or not the author is in the first place of the sublist `book`. If it is, then we print the book. If not, we append it to our empty list `lst`. If the lst is equal to all_list, it means that nothing occurs so we can affirm that the author is not a bestseller author."
   ]
  },
  {
   "cell_type": "code",
   "execution_count": null,
   "metadata": {},
   "outputs": [],
   "source": [
    "def search_title():\n",
    "    lst=[]\n",
    "    title = input(\"What is the title you are looking for?\")\n",
    "    print(\"\\n\")\n",
    "    title = ' '.join(word[0].upper() + word[1:].lower() for word in title.split()) \n",
    "    print(\"Here is a list of the books with the word(s)\", title, \"in it:\\n\")\n",
    "    for book in all_list:\n",
    "        if title in book[0]:\n",
    "            print(book[0],\", by\", book[1], \"(\" , book[3],\")\\n\")\n",
    "            continue\n",
    "        else: lst.append(book)\n",
    "    if lst == all_list: \n",
    "        return print ('{} is not a bestseller title.'.format(title))"
   ]
  },
  {
   "cell_type": "markdown",
   "metadata": {},
   "source": [
    "This function is very similar to the function <code style=\"color:blue\">search_title</code>. The main difference in this function is that when searching in the book lists, we search the `book[0]` element, which is the title in each book. And again, the function returns an error message in the event that the user's search does not yield any result from our database."
   ]
  },
  {
   "cell_type": "code",
   "execution_count": null,
   "metadata": {},
   "outputs": [],
   "source": [
    "def birthday():\n",
    "    lst = [] \n",
    "    try:\n",
    "        birth = input('Your month (1-12):'), input('Your day: '), input('Your year: ')\n",
    "        birthday = \"/\".join(birth)\n",
    "        print(\"\\n\")\n",
    "        for book in all_list:\n",
    "            if birthday in book[3]:\n",
    "                print(book[0],\" by\", book[1], \"became #1 top seller on your birthday (\", book[3], \")\\n\")\n",
    "                continue\n",
    "            else:\n",
    "                lst.append(book)  \n",
    "        if lst == all_list:\n",
    "            return print('Sorry, no book became #1 best seller on your birthday.\\n')\n",
    "\n",
    "    except ValueError:\n",
    "        print(\"This is not a valid choice, please try again!\")"
   ]
  },
  {
   "cell_type": "markdown",
   "metadata": {},
   "source": [
    "This funtion allows the user to search if there has been a book that became #1 bestseller on his birthday. However, it can also be used to search any other specific date. We first ask the user to enter his birthday date. Then we create a loop that looks in the book list whether there is a match between the birthday date and the date the book became bestseller. If this is the case, the book will be printed out. Otherwise, there will be an error message displayed. Finally, if the user enters an input that is of a bad value, another error message will be printed out. "
   ]
  },
  {
   "cell_type": "code",
   "execution_count": null,
   "metadata": {},
   "outputs": [],
   "source": [
    "choice = ()\n",
    "count = 0 \n",
    "while count == 0:\n",
    "    interface1()\n",
    "    print(\"\\n\")\n",
    "    choice = input(\"Please enter your choice:\")\n",
    "    print(\"\\n\")\n",
    "    if choice == \"1\":\n",
    "        search_years()\n",
    "        count += 1 \n",
    "    elif choice ==\"2\": \n",
    "        search_monthyear()\n",
    "        count += 1 \n",
    "    elif choice ==\"3\":\n",
    "        search_authors()\n",
    "        count += 1 \n",
    "    elif choice ==\"4\":\n",
    "        search_title()\n",
    "        count += 1 \n",
    "    elif choice ==\"5\":\n",
    "        birthday()\n",
    "        count+= 1\n",
    "    elif choice.lower() == 'q':\n",
    "        print(\"\\n\")\n",
    "        print(\"Thank you for using the best program ever!\") \n",
    "        break\n",
    "    else:\n",
    "        print(\"\\n\")\n",
    "        print(\"This is not a valid choice, please try again!\")\n",
    "        print(\"\\n\")\n",
    "        count += 1 \n",
    "\n",
    "while choice != \"q\":\n",
    "    interface2()\n",
    "    print(\"\\n\")\n",
    "    choice = input(\"Please enter your choice:\")\n",
    "    if choice == \"1\":\n",
    "        search_years()\n",
    "    elif choice ==\"2\": \n",
    "        search_monthyear()\n",
    "    elif choice ==\"3\":\n",
    "        search_authors()\n",
    "    elif choice ==\"4\":\n",
    "        search_title()\n",
    "    elif choice ==\"5\":\n",
    "        birthday()\n",
    "    elif choice.lower() == 'q':\n",
    "        print(\"\\n\")\n",
    "        print(\"Thank you for using the best program ever!\") \n",
    "        break\n",
    "    else:\n",
    "        print(\"\\n\")\n",
    "        print(\"This is not a valid choice, please try again!\")\n",
    "        print(\"\\n\")"
   ]
  },
  {
   "cell_type": "markdown",
   "metadata": {},
   "source": [
    "We first create a count in order to check whether the program has to display the first or the second interface. We first display the first one, in which all different functions created are linked to the choice made by the user. After one function is launched, the program will add 1 to the count and then the second interface will be displayed. \n",
    "\n",
    "For the second interface, we create a loop that display all the possible choice linked to their functions as long as the user do not press `\"q\"`. If he does, the program will quit. \n",
    "\n",
    "For both interfaces, if the choice made by the user is not one of the option, the program will ask him to try again and start the loop from the beginning. "
   ]
  },
  {
   "cell_type": "markdown",
   "metadata": {},
   "source": [
    "To conclude, we hope that these detailed explainations help you better understand our project.\n",
    "\n",
    "Jeremy Proz\n",
    "\n",
    "Alexis Kurth\n",
    "\n",
    "Thibault Buraglio\n",
    "\n",
    "Bryan Jacot-Descombes"
   ]
  }
 ],
 "metadata": {
  "kernelspec": {
   "display_name": "Python 3",
   "language": "python",
   "name": "python3"
  },
  "language_info": {
   "codemirror_mode": {
    "name": "ipython",
    "version": 3
   },
   "file_extension": ".py",
   "mimetype": "text/x-python",
   "name": "python",
   "nbconvert_exporter": "python",
   "pygments_lexer": "ipython3",
   "version": "3.6.5"
  }
 },
 "nbformat": 4,
 "nbformat_minor": 2
}
